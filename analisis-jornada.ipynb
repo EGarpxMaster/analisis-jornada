{
 "cells": [
  {
   "cell_type": "code",
   "execution_count": 1,
   "id": "d81cd485",
   "metadata": {},
   "outputs": [],
   "source": [
    "import pandas as pd"
   ]
  },
  {
   "cell_type": "code",
   "execution_count": 2,
   "id": "aab0072c",
   "metadata": {},
   "outputs": [],
   "source": [
    "import mysql.connector as mc\n",
    "from mysql.connector import Error\n",
    "import mysql.connector"
   ]
  },
  {
   "cell_type": "markdown",
   "id": "bf612c71",
   "metadata": {},
   "source": [
    "## Conexión SQL"
   ]
  },
  {
   "cell_type": "code",
   "execution_count": 7,
   "id": "dc97a9da",
   "metadata": {},
   "outputs": [],
   "source": [
    "# Conexión a SQL usando pymysql\n",
    "def serverCon(host_name, user_name, password, db, pt):\n",
    "    import pymysql\n",
    "    connection = None\n",
    "    try:\n",
    "        connection = pymysql.connect(\n",
    "            host=host_name,\n",
    "            user=user_name,\n",
    "            password=password,\n",
    "            database=db,\n",
    "            port=int(pt),\n",
    "            charset='utf8mb4',\n",
    "            cursorclass=pymysql.cursors.DictCursor,\n",
    "            autocommit=True\n",
    "        )\n",
    "        print('Conexión exitosa')\n",
    "    except Exception as err:\n",
    "        print(f\"Error al conectar: '{err}'\")\n",
    "    return connection"
   ]
  },
  {
   "cell_type": "code",
   "execution_count": 8,
   "id": "986c5828",
   "metadata": {},
   "outputs": [],
   "source": [
    "#Ejecución Query\n",
    "def executeQuery(connection, query):\n",
    "    cursor = connection.cursor()\n",
    "    try:\n",
    "        cursor.execute(query)\n",
    "        connection.commit()\n",
    "        print('Query Ejecutado')\n",
    "    except Error as err:\n",
    "        print(f\"Error: '{err}'\")"
   ]
  },
  {
   "cell_type": "code",
   "execution_count": 9,
   "id": "60f9a888",
   "metadata": {},
   "outputs": [
    {
     "name": "stdout",
     "output_type": "stream",
     "text": [
      "Conexión exitosa\n"
     ]
    }
   ],
   "source": [
    "conect = serverCon('192.168.200.212', 'industrial', 'p@ss4DB', 'jornada_ii', '3306') #Puerto 3306"
   ]
  },
  {
   "cell_type": "code",
   "execution_count": 14,
   "id": "7c6ffdae",
   "metadata": {},
   "outputs": [
    {
     "data": {
      "text/plain": [
       "['actividades',\n",
       " 'asistencias',\n",
       " 'configuracion_sistema',\n",
       " 'equipos_concurso',\n",
       " 'estados_mexico',\n",
       " 'inscripciones_workshop',\n",
       " 'participantes',\n",
       " 'v_asistencias_stats',\n",
       " 'v_asistencias_workshops',\n",
       " 'v_participantes_completos',\n",
       " 'v_workshop_stats']"
      ]
     },
     "execution_count": 14,
     "metadata": {},
     "output_type": "execute_result"
    }
   ],
   "source": [
    "# Listar todas las tablas de la base de datos\n",
    "def get_table_names(connection):\n",
    "    with connection.cursor() as cursor:\n",
    "        cursor.execute(\"SHOW TABLES;\")\n",
    "        tables = [row[list(row.keys())[0]] for row in cursor.fetchall()]\n",
    "    return tables\n",
    "\n",
    "tablas = get_table_names(conect)\n",
    "tablas"
   ]
  },
  {
   "cell_type": "code",
   "execution_count": 17,
   "id": "8d0e6d0c",
   "metadata": {},
   "outputs": [
    {
     "name": "stdout",
     "output_type": "stream",
     "text": [
      "Filas: 236\n"
     ]
    },
    {
     "name": "stderr",
     "output_type": "stream",
     "text": [
      "C:\\Users\\20030\\AppData\\Local\\Temp\\ipykernel_16472\\1691784127.py:2: UserWarning: pandas only supports SQLAlchemy connectable (engine/connection) or database string URI or sqlite3 DBAPI2 connection. Other DBAPI2 objects are not tested. Please consider using SQLAlchemy.\n",
      "  df_participantes = pd.read_sql('SELECT * FROM participantes', conect)\n"
     ]
    },
    {
     "data": {
      "text/html": [
       "<div>\n",
       "<style scoped>\n",
       "    .dataframe tbody tr th:only-of-type {\n",
       "        vertical-align: middle;\n",
       "    }\n",
       "\n",
       "    .dataframe tbody tr th {\n",
       "        vertical-align: top;\n",
       "    }\n",
       "\n",
       "    .dataframe thead th {\n",
       "        text-align: right;\n",
       "    }\n",
       "</style>\n",
       "<table border=\"1\" class=\"dataframe\">\n",
       "  <thead>\n",
       "    <tr style=\"text-align: right;\">\n",
       "      <th></th>\n",
       "      <th>id</th>\n",
       "      <th>apellido_paterno</th>\n",
       "      <th>apellido_materno</th>\n",
       "      <th>primer_nombre</th>\n",
       "      <th>segundo_nombre</th>\n",
       "      <th>email</th>\n",
       "      <th>telefono</th>\n",
       "      <th>categoria</th>\n",
       "      <th>programa</th>\n",
       "      <th>brazalete</th>\n",
       "      <th>creado</th>\n",
       "      <th>actualizado</th>\n",
       "    </tr>\n",
       "  </thead>\n",
       "  <tbody>\n",
       "    <tr>\n",
       "      <th>0</th>\n",
       "      <td>id</td>\n",
       "      <td>apellido_paterno</td>\n",
       "      <td>apellido_materno</td>\n",
       "      <td>primer_nombre</td>\n",
       "      <td>segundo_nombre</td>\n",
       "      <td>email</td>\n",
       "      <td>telefono</td>\n",
       "      <td>categoria</td>\n",
       "      <td>programa</td>\n",
       "      <td>brazalete</td>\n",
       "      <td>creado</td>\n",
       "      <td>actualizado</td>\n",
       "    </tr>\n",
       "    <tr>\n",
       "      <th>1</th>\n",
       "      <td>id</td>\n",
       "      <td>apellido_paterno</td>\n",
       "      <td>apellido_materno</td>\n",
       "      <td>primer_nombre</td>\n",
       "      <td>segundo_nombre</td>\n",
       "      <td>email</td>\n",
       "      <td>telefono</td>\n",
       "      <td>categoria</td>\n",
       "      <td>programa</td>\n",
       "      <td>brazalete</td>\n",
       "      <td>creado</td>\n",
       "      <td>actualizado</td>\n",
       "    </tr>\n",
       "    <tr>\n",
       "      <th>2</th>\n",
       "      <td>id</td>\n",
       "      <td>apellido_paterno</td>\n",
       "      <td>apellido_materno</td>\n",
       "      <td>primer_nombre</td>\n",
       "      <td>segundo_nombre</td>\n",
       "      <td>email</td>\n",
       "      <td>telefono</td>\n",
       "      <td>categoria</td>\n",
       "      <td>programa</td>\n",
       "      <td>brazalete</td>\n",
       "      <td>creado</td>\n",
       "      <td>actualizado</td>\n",
       "    </tr>\n",
       "    <tr>\n",
       "      <th>3</th>\n",
       "      <td>id</td>\n",
       "      <td>apellido_paterno</td>\n",
       "      <td>apellido_materno</td>\n",
       "      <td>primer_nombre</td>\n",
       "      <td>segundo_nombre</td>\n",
       "      <td>email</td>\n",
       "      <td>telefono</td>\n",
       "      <td>categoria</td>\n",
       "      <td>programa</td>\n",
       "      <td>brazalete</td>\n",
       "      <td>creado</td>\n",
       "      <td>actualizado</td>\n",
       "    </tr>\n",
       "    <tr>\n",
       "      <th>4</th>\n",
       "      <td>id</td>\n",
       "      <td>apellido_paterno</td>\n",
       "      <td>apellido_materno</td>\n",
       "      <td>primer_nombre</td>\n",
       "      <td>segundo_nombre</td>\n",
       "      <td>email</td>\n",
       "      <td>telefono</td>\n",
       "      <td>categoria</td>\n",
       "      <td>programa</td>\n",
       "      <td>brazalete</td>\n",
       "      <td>creado</td>\n",
       "      <td>actualizado</td>\n",
       "    </tr>\n",
       "  </tbody>\n",
       "</table>\n",
       "</div>"
      ],
      "text/plain": [
       "   id  apellido_paterno  apellido_materno  primer_nombre  segundo_nombre  \\\n",
       "0  id  apellido_paterno  apellido_materno  primer_nombre  segundo_nombre   \n",
       "1  id  apellido_paterno  apellido_materno  primer_nombre  segundo_nombre   \n",
       "2  id  apellido_paterno  apellido_materno  primer_nombre  segundo_nombre   \n",
       "3  id  apellido_paterno  apellido_materno  primer_nombre  segundo_nombre   \n",
       "4  id  apellido_paterno  apellido_materno  primer_nombre  segundo_nombre   \n",
       "\n",
       "   email  telefono  categoria  programa  brazalete  creado  actualizado  \n",
       "0  email  telefono  categoria  programa  brazalete  creado  actualizado  \n",
       "1  email  telefono  categoria  programa  brazalete  creado  actualizado  \n",
       "2  email  telefono  categoria  programa  brazalete  creado  actualizado  \n",
       "3  email  telefono  categoria  programa  brazalete  creado  actualizado  \n",
       "4  email  telefono  categoria  programa  brazalete  creado  actualizado  "
      ]
     },
     "metadata": {},
     "output_type": "display_data"
    },
    {
     "name": "stdout",
     "output_type": "stream",
     "text": [
      "Columnas: ['id', 'apellido_paterno', 'apellido_materno', 'primer_nombre', 'segundo_nombre', 'email', 'telefono', 'categoria', 'programa', 'brazalete', 'creado', 'actualizado']\n"
     ]
    }
   ],
   "source": [
    "# Extraer y mostrar la tabla 'participantes' (sin duplicar encabezado)\n",
    "df_participantes = pd.read_sql('SELECT * FROM participantes', conect)\n",
    "print('Filas:', len(df_participantes))\n",
    "display(df_participantes.head())\n",
    "print('Columnas:', df_participantes.columns.tolist())"
   ]
  },
  {
   "cell_type": "code",
   "execution_count": null,
   "id": "5bafb7aa",
   "metadata": {},
   "outputs": [],
   "source": [
    "# Descargar el DataFrame de participantes como CSV\n",
    "df_participantes.to_csv('participantes.csv', index=False)\n",
    "print('Archivo participantes.csv guardado.')"
   ]
  },
  {
   "cell_type": "code",
   "execution_count": 19,
   "id": "c16697ba",
   "metadata": {},
   "outputs": [
    {
     "ename": "ValueError",
     "evalue": "Mime type rendering requires nbformat>=4.2.0 but it is not installed",
     "output_type": "error",
     "traceback": [
      "\u001b[31m---------------------------------------------------------------------------\u001b[39m",
      "\u001b[31mValueError\u001b[39m                                Traceback (most recent call last)",
      "\u001b[36mCell\u001b[39m\u001b[36m \u001b[39m\u001b[32mIn[19]\u001b[39m\u001b[32m, line 6\u001b[39m\n\u001b[32m      3\u001b[39m \u001b[38;5;28;01mif\u001b[39;00m \u001b[38;5;129;01mnot\u001b[39;00m df_participantes.empty:\n\u001b[32m      4\u001b[39m     \u001b[38;5;66;03m# Participantes por programa\u001b[39;00m\n\u001b[32m      5\u001b[39m     fig = px.histogram(df_participantes, x=\u001b[33m'\u001b[39m\u001b[33mprograma\u001b[39m\u001b[33m'\u001b[39m, title=\u001b[33m'\u001b[39m\u001b[33mParticipantes por Programa\u001b[39m\u001b[33m'\u001b[39m)\n\u001b[32m----> \u001b[39m\u001b[32m6\u001b[39m     \u001b[43mfig\u001b[49m\u001b[43m.\u001b[49m\u001b[43mshow\u001b[49m\u001b[43m(\u001b[49m\u001b[43m)\u001b[49m\n\u001b[32m      7\u001b[39m     \u001b[38;5;66;03m# Participantes por dominio de correo\u001b[39;00m\n\u001b[32m      8\u001b[39m     df_participantes[\u001b[33m'\u001b[39m\u001b[33mdominio\u001b[39m\u001b[33m'\u001b[39m] = df_participantes[\u001b[33m'\u001b[39m\u001b[33memail\u001b[39m\u001b[33m'\u001b[39m].str.split(\u001b[33m'\u001b[39m\u001b[33m@\u001b[39m\u001b[33m'\u001b[39m).str[-\u001b[32m1\u001b[39m]\n",
      "\u001b[36mFile \u001b[39m\u001b[32mc:\\Users\\20030\\Documents\\GitHub\\analisis-jornada\\.venv\\Lib\\site-packages\\plotly\\basedatatypes.py:3420\u001b[39m, in \u001b[36mBaseFigure.show\u001b[39m\u001b[34m(self, *args, **kwargs)\u001b[39m\n\u001b[32m   3387\u001b[39m \u001b[38;5;250m\u001b[39m\u001b[33;03m\"\"\"\u001b[39;00m\n\u001b[32m   3388\u001b[39m \u001b[33;03mShow a figure using either the default renderer(s) or the renderer(s)\u001b[39;00m\n\u001b[32m   3389\u001b[39m \u001b[33;03mspecified by the renderer argument\u001b[39;00m\n\u001b[32m   (...)\u001b[39m\u001b[32m   3416\u001b[39m \u001b[33;03mNone\u001b[39;00m\n\u001b[32m   3417\u001b[39m \u001b[33;03m\"\"\"\u001b[39;00m\n\u001b[32m   3418\u001b[39m \u001b[38;5;28;01mimport\u001b[39;00m\u001b[38;5;250m \u001b[39m\u001b[34;01mplotly\u001b[39;00m\u001b[34;01m.\u001b[39;00m\u001b[34;01mio\u001b[39;00m\u001b[38;5;250m \u001b[39m\u001b[38;5;28;01mas\u001b[39;00m\u001b[38;5;250m \u001b[39m\u001b[34;01mpio\u001b[39;00m\n\u001b[32m-> \u001b[39m\u001b[32m3420\u001b[39m \u001b[38;5;28;01mreturn\u001b[39;00m \u001b[43mpio\u001b[49m\u001b[43m.\u001b[49m\u001b[43mshow\u001b[49m\u001b[43m(\u001b[49m\u001b[38;5;28;43mself\u001b[39;49m\u001b[43m,\u001b[49m\u001b[43m \u001b[49m\u001b[43m*\u001b[49m\u001b[43margs\u001b[49m\u001b[43m,\u001b[49m\u001b[43m \u001b[49m\u001b[43m*\u001b[49m\u001b[43m*\u001b[49m\u001b[43mkwargs\u001b[49m\u001b[43m)\u001b[49m\n",
      "\u001b[36mFile \u001b[39m\u001b[32mc:\\Users\\20030\\Documents\\GitHub\\analisis-jornada\\.venv\\Lib\\site-packages\\plotly\\io\\_renderers.py:415\u001b[39m, in \u001b[36mshow\u001b[39m\u001b[34m(fig, renderer, validate, **kwargs)\u001b[39m\n\u001b[32m    410\u001b[39m     \u001b[38;5;28;01mraise\u001b[39;00m \u001b[38;5;167;01mValueError\u001b[39;00m(\n\u001b[32m    411\u001b[39m         \u001b[33m\"\u001b[39m\u001b[33mMime type rendering requires ipython but it is not installed\u001b[39m\u001b[33m\"\u001b[39m\n\u001b[32m    412\u001b[39m     )\n\u001b[32m    414\u001b[39m \u001b[38;5;28;01mif\u001b[39;00m \u001b[38;5;129;01mnot\u001b[39;00m nbformat \u001b[38;5;129;01mor\u001b[39;00m Version(nbformat.__version__) < Version(\u001b[33m\"\u001b[39m\u001b[33m4.2.0\u001b[39m\u001b[33m\"\u001b[39m):\n\u001b[32m--> \u001b[39m\u001b[32m415\u001b[39m     \u001b[38;5;28;01mraise\u001b[39;00m \u001b[38;5;167;01mValueError\u001b[39;00m(\n\u001b[32m    416\u001b[39m         \u001b[33m\"\u001b[39m\u001b[33mMime type rendering requires nbformat>=4.2.0 but it is not installed\u001b[39m\u001b[33m\"\u001b[39m\n\u001b[32m    417\u001b[39m     )\n\u001b[32m    419\u001b[39m display_jupyter_version_warnings()\n\u001b[32m    421\u001b[39m ipython_display.display(bundle, raw=\u001b[38;5;28;01mTrue\u001b[39;00m)\n",
      "\u001b[31mValueError\u001b[39m: Mime type rendering requires nbformat>=4.2.0 but it is not installed"
     ]
    }
   ],
   "source": [
    "# Gráficos rápidos con pandas y plotly\n",
    "import plotly.express as px\n",
    "if not df_participantes.empty:\n",
    "    # Participantes por programa\n",
    "    fig = px.histogram(df_participantes, x='programa', title='Participantes por Programa')\n",
    "    fig.show()\n",
    "    # Participantes por dominio de correo\n",
    "    df_participantes['dominio'] = df_participantes['email'].str.split('@').str[-1]\n",
    "    fig2 = px.histogram(df_participantes, x='dominio', title='Participantes por Dominio de Correo')\n",
    "    fig2.show()"
   ]
  },
  {
   "cell_type": "markdown",
   "id": "25c418a5",
   "metadata": {},
   "source": [
    "## Dashboard básico para participantes"
   ]
  }
 ],
 "metadata": {
  "kernelspec": {
   "display_name": ".venv",
   "language": "python",
   "name": "python3"
  },
  "language_info": {
   "codemirror_mode": {
    "name": "ipython",
    "version": 3
   },
   "file_extension": ".py",
   "mimetype": "text/x-python",
   "name": "python",
   "nbconvert_exporter": "python",
   "pygments_lexer": "ipython3",
   "version": "3.13.2"
  }
 },
 "nbformat": 4,
 "nbformat_minor": 5
}
